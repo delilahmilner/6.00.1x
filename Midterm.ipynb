{
 "cells": [
  {
   "cell_type": "code",
   "execution_count": 20,
   "id": "709be3a2",
   "metadata": {},
   "outputs": [],
   "source": [
    "def closest_power(base, num):\n",
    "    # which exponent gets you to the number is it base^ 1,2,3 ?\n",
    "    num = int(num)\n",
    "    options = range(num)\n",
    "    array = []\n",
    "    for i in options:\n",
    "        array.append(base**i)\n",
    "    subtraction = []\n",
    "    for i in array:\n",
    "        subtraction.append(abs(i-num))\n",
    "    return subtraction.index(min(subtraction))"
   ]
  },
  {
   "cell_type": "code",
   "execution_count": 156,
   "id": "dfb2af14",
   "metadata": {},
   "outputs": [
    {
     "data": {
      "text/plain": [
       "2"
      ]
     },
     "execution_count": 156,
     "metadata": {},
     "output_type": "execute_result"
    }
   ],
   "source": [
    "closest_power(3,12)"
   ]
  },
  {
   "cell_type": "code",
   "execution_count": 157,
   "id": "ef7b68be",
   "metadata": {},
   "outputs": [
    {
     "data": {
      "text/plain": [
       "0"
      ]
     },
     "execution_count": 157,
     "metadata": {},
     "output_type": "execute_result"
    }
   ],
   "source": [
    "closest_power(4,1)"
   ]
  },
  {
   "cell_type": "code",
   "execution_count": 29,
   "id": "d1842ac3",
   "metadata": {},
   "outputs": [],
   "source": [
    "def dotProduct(listA, listB):\n",
    "    # dot product is 1*4 + 2*5 + 3*6\n",
    "    # the sum of position 0 of both arrays + sum of position 2\n",
    "    productlist = []\n",
    "    for i in range(len(listA)):\n",
    "        productlist.append(listA[i]*listB[i])\n",
    "    return sum(productlist)   "
   ]
  },
  {
   "cell_type": "code",
   "execution_count": null,
   "id": "5861fbdc",
   "metadata": {},
   "outputs": [],
   "source": []
  },
  {
   "cell_type": "code",
   "execution_count": 30,
   "id": "2f1411e8",
   "metadata": {},
   "outputs": [
    {
     "data": {
      "text/plain": [
       "32"
      ]
     },
     "execution_count": 30,
     "metadata": {},
     "output_type": "execute_result"
    }
   ],
   "source": [
    "listA = [1, 2, 3]\n",
    "listB = [4, 5, 6]\n",
    "dotProduct(listA, listB)"
   ]
  },
  {
   "cell_type": "code",
   "execution_count": 154,
   "id": "f9c81ab7",
   "metadata": {},
   "outputs": [],
   "source": [
    "def keysWithValue(aDict, target):\n",
    "    # take in a dictionary and pull out the the keys where the value equals the target\n",
    "    # the keys have to be sorted\n",
    "    a = list(aDict.values())\n",
    "    targetpositions = []\n",
    "    for i in range(len(a)):\n",
    "        if a[i]==target:\n",
    "            targetpositions.append(i)\n",
    "    keys = list(aDict.keys())\n",
    "    keylist = []\n",
    "    for i in targetpositions:\n",
    "        keylist.append(keys[i])\n",
    "    keylist.sort()\n",
    "        \n",
    "    return keylist"
   ]
  },
  {
   "cell_type": "code",
   "execution_count": 155,
   "id": "add35383",
   "metadata": {},
   "outputs": [
    {
     "data": {
      "text/plain": [
       "[2, 6, 9]"
      ]
     },
     "execution_count": 155,
     "metadata": {},
     "output_type": "execute_result"
    }
   ],
   "source": [
    "keysWithValue({8: 0, 9: 1, 2: 1, 4: 0, 6: 1}, 1)"
   ]
  },
  {
   "cell_type": "code",
   "execution_count": 11,
   "id": "8d5dc534",
   "metadata": {},
   "outputs": [],
   "source": [
    "def laceStringsRecur(s1, s2):\n",
    "# every other letter is put into a string\n",
    "    \"\"\"\n",
    "    s1 and s2 are strings.\n",
    "\n",
    "    Returns a new str with elements of s1 and s2 interlaced,\n",
    "    beginning with s1. If strings are not of same length, \n",
    "    then the extra elements should appear at the end.\n",
    "    \"\"\"\n",
    "    def helpLaceStrings(s1, s2, out):\n",
    "        if s1 == '':\n",
    "            return out+s2\n",
    "        if s2 == '':\n",
    "            return out+s1\n",
    "        else:\n",
    "            return helpLaceStrings(s1[1:], s2[1:], out + s1[0] + s2[0])\n",
    "    return helpLaceStrings(s1, s2, '')"
   ]
  },
  {
   "cell_type": "code",
   "execution_count": 12,
   "id": "31a9c896",
   "metadata": {},
   "outputs": [],
   "source": [
    "s1 = 'abcd'\n",
    "s2 = '12345'"
   ]
  },
  {
   "cell_type": "code",
   "execution_count": 13,
   "id": "bcc83924",
   "metadata": {},
   "outputs": [
    {
     "data": {
      "text/plain": [
       "'a1b2c3d45'"
      ]
     },
     "execution_count": 13,
     "metadata": {},
     "output_type": "execute_result"
    }
   ],
   "source": [
    "laceStringsRecur(s1, s2)"
   ]
  },
  {
   "cell_type": "code",
   "execution_count": 10,
   "id": "277a70dd",
   "metadata": {},
   "outputs": [
    {
     "data": {
      "text/plain": [
       "'bcd'"
      ]
     },
     "execution_count": 10,
     "metadata": {},
     "output_type": "execute_result"
    }
   ],
   "source": [
    "def applyToEach(L, f):\n",
    "    for i in range(len(L)):\n",
    "        L[i] = f(L[i])\n",
    "def plus1(a):\n",
    "    return a + 1\n",
    "\n",
    "applyToEach(testList, plus1)   \n",
    "        "
   ]
  },
  {
   "cell_type": "code",
   "execution_count": 22,
   "id": "c8cc3fb1",
   "metadata": {},
   "outputs": [
    {
     "data": {
      "text/plain": [
       "''"
      ]
     },
     "execution_count": 22,
     "metadata": {},
     "output_type": "execute_result"
    }
   ],
   "source": [
    "def score(word, f):"
   ]
  },
  {
   "cell_type": "code",
   "execution_count": 1,
   "id": "3f4d6e8d",
   "metadata": {},
   "outputs": [],
   "source": [
    "def f(firstscore,secondscore):\n",
    "    return firstscore+secondscore"
   ]
  },
  {
   "cell_type": "code",
   "execution_count": 2,
   "id": "c3eced16",
   "metadata": {},
   "outputs": [],
   "source": [
    "# step 2 calculate the top scores\n",
    "def score(word, f):\n",
    "    word = word.lower()\n",
    "    scores = []\n",
    "    for i in word:\n",
    "        scores.append(ord(i)-96)\n",
    "    length = []\n",
    "    for i in range(len(word)):\n",
    "        length.append(i)\n",
    "    final = []\n",
    "    for i in range(len(word)):\n",
    "        final.append(scores[i]*length[i])  \n",
    "    topscore = final.sort(reverse=True)\n",
    "    firstplace = final[0]\n",
    "    secondplace = final[1] \n",
    "    return f(firstplace,secondplace)\n",
    "    "
   ]
  },
  {
   "cell_type": "code",
   "execution_count": 3,
   "id": "ce628045",
   "metadata": {},
   "outputs": [
    {
     "data": {
      "text/plain": [
       "72"
      ]
     },
     "execution_count": 3,
     "metadata": {},
     "output_type": "execute_result"
    }
   ],
   "source": [
    "score('aBcdefg', f)"
   ]
  },
  {
   "cell_type": "code",
   "execution_count": null,
   "id": "976736ac",
   "metadata": {},
   "outputs": [],
   "source": []
  },
  {
   "cell_type": "code",
   "execution_count": 89,
   "id": "8cb8f540",
   "metadata": {},
   "outputs": [
    {
     "data": {
      "text/plain": [
       "1"
      ]
     },
     "execution_count": 89,
     "metadata": {},
     "output_type": "execute_result"
    }
   ],
   "source": [
    "a = ord('a')-96\n",
    "a"
   ]
  },
  {
   "cell_type": "code",
   "execution_count": 7,
   "id": "d94428c4",
   "metadata": {},
   "outputs": [
    {
     "data": {
      "text/plain": [
       "26"
      ]
     },
     "execution_count": 7,
     "metadata": {},
     "output_type": "execute_result"
    }
   ],
   "source": [
    "ord('z')-96"
   ]
  },
  {
   "cell_type": "code",
   "execution_count": 9,
   "id": "c3ba36a0",
   "metadata": {},
   "outputs": [
    {
     "data": {
      "text/plain": [
       "'adh'"
      ]
     },
     "execution_count": 9,
     "metadata": {},
     "output_type": "execute_result"
    }
   ],
   "source": [
    "z = 'ADH'\n",
    "b = z.lower()\n",
    "b"
   ]
  },
  {
   "cell_type": "code",
   "execution_count": 18,
   "id": "85b54411",
   "metadata": {},
   "outputs": [],
   "source": [
    "array = []\n",
    "for i in word:\n",
    "    array.append((ord(i)-96)*word.index(i))"
   ]
  },
  {
   "cell_type": "code",
   "execution_count": 19,
   "id": "a86e1ae6",
   "metadata": {},
   "outputs": [
    {
     "data": {
      "text/plain": [
       "[0, 4, 2]"
      ]
     },
     "execution_count": 19,
     "metadata": {},
     "output_type": "execute_result"
    }
   ],
   "source": [
    "array"
   ]
  },
  {
   "cell_type": "code",
   "execution_count": 42,
   "id": "d4e4e86d",
   "metadata": {},
   "outputs": [],
   "source": [
    "array = []\n",
    "word = 'cda'\n",
    "for i in word:\n",
    "    array.append(ord(i)-96)"
   ]
  },
  {
   "cell_type": "code",
   "execution_count": 43,
   "id": "6809a9da",
   "metadata": {},
   "outputs": [
    {
     "data": {
      "text/plain": [
       "[4, 3, 1]"
      ]
     },
     "execution_count": 43,
     "metadata": {},
     "output_type": "execute_result"
    }
   ],
   "source": [
    "array.sort(reverse=True)\n",
    "array"
   ]
  },
  {
   "cell_type": "code",
   "execution_count": 68,
   "id": "bbf3c216",
   "metadata": {},
   "outputs": [],
   "source": [
    "test = [4, 3, 1]"
   ]
  },
  {
   "cell_type": "code",
   "execution_count": 75,
   "id": "2acf6ae6",
   "metadata": {},
   "outputs": [],
   "source": [
    "test2 = []\n",
    "for i in range(3):\n",
    "    test2.append(i) "
   ]
  },
  {
   "cell_type": "code",
   "execution_count": 76,
   "id": "d3fc0c83",
   "metadata": {},
   "outputs": [
    {
     "data": {
      "text/plain": [
       "[0, 1, 2]"
      ]
     },
     "execution_count": 76,
     "metadata": {},
     "output_type": "execute_result"
    }
   ],
   "source": [
    "test2"
   ]
  },
  {
   "cell_type": "code",
   "execution_count": 78,
   "id": "c4d50d9a",
   "metadata": {},
   "outputs": [],
   "source": [
    "final = []\n",
    "for i in range(len(test2)):\n",
    "    final.append(test2[i]*test[i])"
   ]
  },
  {
   "cell_type": "code",
   "execution_count": 79,
   "id": "6c18b380",
   "metadata": {},
   "outputs": [
    {
     "data": {
      "text/plain": [
       "[0, 3, 2]"
      ]
     },
     "execution_count": 79,
     "metadata": {},
     "output_type": "execute_result"
    }
   ],
   "source": [
    "final"
   ]
  },
  {
   "cell_type": "code",
   "execution_count": 86,
   "id": "eae338b0",
   "metadata": {},
   "outputs": [
    {
     "data": {
      "text/plain": [
       "range(0, 4)"
      ]
     },
     "execution_count": 86,
     "metadata": {},
     "output_type": "execute_result"
    }
   ],
   "source": [
    "word = 'abcs'\n",
    "length = range(len(word))\n",
    "length"
   ]
  },
  {
   "cell_type": "code",
   "execution_count": null,
   "id": "7bb824e2",
   "metadata": {},
   "outputs": [],
   "source": []
  }
 ],
 "metadata": {
  "kernelspec": {
   "display_name": "Python 3 (ipykernel)",
   "language": "python",
   "name": "python3"
  },
  "language_info": {
   "codemirror_mode": {
    "name": "ipython",
    "version": 3
   },
   "file_extension": ".py",
   "mimetype": "text/x-python",
   "name": "python",
   "nbconvert_exporter": "python",
   "pygments_lexer": "ipython3",
   "version": "3.10.11"
  }
 },
 "nbformat": 4,
 "nbformat_minor": 5
}
