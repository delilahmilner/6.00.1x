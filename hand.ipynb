{
 "cells": [
  {
   "cell_type": "code",
   "execution_count": 88,
   "id": "b5149870",
   "metadata": {},
   "outputs": [
    {
     "name": "stdout",
     "output_type": "stream",
     "text": [
      "aejjjnv\n",
      "7\n",
      "aampszz\n",
      "7\n",
      "aampsz\n"
     ]
    },
    {
     "data": {
      "text/plain": [
       "True"
      ]
     },
     "execution_count": 88,
     "metadata": {},
     "output_type": "execute_result"
    }
   ],
   "source": [
    "import random \n",
    "\n",
    "class Hand(object):\n",
    "    def __init__(self, n):\n",
    "        '''\n",
    "        Initialize a Hand.\n",
    "\n",
    "        n: integer, the size of the hand.\n",
    "        '''\n",
    "        assert type(n) == int\n",
    "        self.HAND_SIZE = n\n",
    "        self.VOWELS = 'aeiou'\n",
    "        self.CONSONANTS = 'bcdfghjklmnpqrstvwxyz'\n",
    "\n",
    "        # Deal a new hand\n",
    "        self.dealNewHand()\n",
    "\n",
    "    def dealNewHand(self):\n",
    "        '''\n",
    "        Deals a new hand, and sets the hand attribute to the new hand.\n",
    "        '''\n",
    "        # Set self.hand to a new, empty dictionary\n",
    "        self.hand = {}\n",
    "\n",
    "        # Build the hand\n",
    "        numVowels = self.HAND_SIZE // 3\n",
    "    \n",
    "        for i in range(numVowels):\n",
    "            x = self.VOWELS[random.randrange(0,len(self.VOWELS))]\n",
    "            self.hand[x] = self.hand.get(x, 0) + 1\n",
    "        \n",
    "        for i in range(numVowels, self.HAND_SIZE):    \n",
    "            x = self.CONSONANTS[random.randrange(0,len(self.CONSONANTS))]\n",
    "            self.hand[x] = self.hand.get(x, 0) + 1\n",
    "            \n",
    "    def setDummyHand(self, handString):\n",
    "        '''\n",
    "        Allows you to set a dummy hand. Useful for testing your implementation.\n",
    "\n",
    "        handString: A string of letters you wish to be in the hand. Length of this\n",
    "        string must be equal to self.HAND_SIZE.\n",
    "\n",
    "        This method converts sets the hand attribute to a dictionary\n",
    "        containing the letters of handString.\n",
    "        '''\n",
    "        assert len(handString) == self.HAND_SIZE, \"Length of handString ({0}) must equal length of HAND_SIZE ({1})\".format(len(handString), self.HAND_SIZE)\n",
    "        self.hand = {}\n",
    "        for char in handString:\n",
    "            self.hand[char] = self.hand.get(char, 0) + 1\n",
    "\n",
    "\n",
    "    def calculateLen(self):\n",
    "        '''\n",
    "        Calculate the length of the hand.\n",
    "        '''\n",
    "        ans = 0\n",
    "        for k in self.hand:\n",
    "            ans += self.hand[k]\n",
    "        return ans\n",
    "    \n",
    "    def __str__(self):\n",
    "        '''\n",
    "        Display a string representation of the hand.\n",
    "        '''\n",
    "        output = ''\n",
    "        hand_keys = sorted(self.hand.keys())\n",
    "        for letter in hand_keys:\n",
    "            for j in range(self.hand[letter]):\n",
    "                output += letter\n",
    "        return output\n",
    "\n",
    "    def update(self, word):\n",
    "        \"\"\"\n",
    "        Does not assume that self.hand has all the letters in word.\n",
    "\n",
    "        Updates the hand: if self.hand does have all the letters to make\n",
    "        the word, modifies self.hand by using up the letters in the given word.\n",
    "        \"\"\"\n",
    "        \n",
    "\n",
    "        \"\"\"\n",
    "        Returns True if the word was able to be made with the letter in\n",
    "        the hand; False otherwise.\n",
    "        \n",
    "        \n",
    "        word: string\n",
    "        returns: Boolean (if the word was or was not made)\n",
    "        \"\"\"\n",
    "\n",
    "        valid = 0\n",
    "        self.hand = self.hand.copy()\n",
    "        if len(word) <= 0:\n",
    "        # if they do not put down any letters it is not valid\n",
    "            return False\n",
    "        else:\n",
    "            for i in word:\n",
    "            # the letter has to exsist in the hand\n",
    "            # you cannot put down a f unless your hand has an f\n",
    "                if i not in self.hand.keys():\n",
    "                    return False\n",
    "            # just because you have the letter doesnt mean you have enough\n",
    "            # if your word has 2 letters but you only have 1 not valid\n",
    "                if self.hand[i] == 0:\n",
    "                    return False\n",
    "                else:\n",
    "                # for every letter in the word if you can use a letter\n",
    "                # this takes away a letter in the hand\n",
    "                    valid = valid + 1\n",
    "                \n",
    "        if len(word) == valid:\n",
    "            for i in word:\n",
    "                self.hand.update({i: self.hand[i]-1})    \n",
    "            return True\n",
    "        else: \n",
    "            return False\n",
    "\n",
    "    \n",
    "myHand = Hand(7)\n",
    "print(myHand)\n",
    "print(myHand.calculateLen())\n",
    "\n",
    "myHand.setDummyHand('aazzmsp')\n",
    "print(myHand)\n",
    "print(myHand.calculateLen())\n",
    "\n",
    "myHand.update('z')\n",
    "print(myHand)\n",
    "myHand.update('az')"
   ]
  },
  {
   "cell_type": "code",
   "execution_count": 89,
   "id": "b44f6d4d",
   "metadata": {},
   "outputs": [
    {
     "name": "stdout",
     "output_type": "stream",
     "text": [
      "aaaaddghiiz\n"
     ]
    }
   ],
   "source": [
    "myHand = Hand(11)\n",
    "myHand.setDummyHand('dadaaiahzgi')\n",
    "myHand.update('daikon')\n",
    "print (myHand)"
   ]
  },
  {
   "cell_type": "code",
   "execution_count": 78,
   "id": "80071abf",
   "metadata": {},
   "outputs": [
    {
     "name": "stdout",
     "output_type": "stream",
     "text": [
      "{'a': 1, 'z': 1, 'm': 1, 's': 1, 'p': 1}\n"
     ]
    }
   ],
   "source": [
    "print(myHand.hand)"
   ]
  },
  {
   "cell_type": "code",
   "execution_count": 67,
   "id": "a683691b",
   "metadata": {},
   "outputs": [],
   "source": [
    "hand = {'a':1, 'q':0, 'l':0, 'm':1, 'u':1, 'i':0}\n",
    "word = 'quaillll'\n",
    "def updateHand(self, word):\n",
    "    valid = 0\n",
    "    self.hand = self.hand.copy()\n",
    "    if len(word) <= 0:\n",
    "        # if they do not put down any letters it is not valid\n",
    "        return False\n",
    "    else:\n",
    "        for i in word:\n",
    "            # the letter has to exsist in the hand\n",
    "            # you cannot put down a f unless your hand has an f\n",
    "            if i not in self.hand.keys():\n",
    "                return False\n",
    "            # just because you have the letter doesnt mean you have enough\n",
    "            # if your word has 2 letters but you only have 1 not valid\n",
    "            if self.hand[i] == 0:\n",
    "                return False\n",
    "            else:\n",
    "                # for every letter in the word if you can use a letter\n",
    "                # this takes away a letter in the hand\n",
    "                self.hand.update({i: self.hand[i]-1})\n",
    "                valid = valid + 1\n",
    "    if len(word) == valid:\n",
    "        return True\n",
    "    else: \n",
    "        return False"
   ]
  },
  {
   "cell_type": "code",
   "execution_count": 51,
   "id": "f2ceebd5",
   "metadata": {},
   "outputs": [],
   "source": [
    "hand = {'a':1, 'q':1, 'l':10, 'm':1, 'u':1, 'i':10}\n",
    "word = 'quaillll'\n",
    "def updateHand(hand, word):\n",
    "    valid = 0\n",
    "    hand = hand.copy()\n",
    "    if len(word) <= 0:\n",
    "        # if they do not put down any letters it is not valid\n",
    "        return False\n",
    "    else:\n",
    "        for i in word:\n",
    "            # the letter has to exsist in the hand\n",
    "            # you cannot put down a f unless your hand has an f\n",
    "            if i not in hand.keys():\n",
    "                return False\n",
    "            # just because you have the letter doesnt mean you have enough\n",
    "            # if your word has 2 letters but you only have 1 not valid\n",
    "            if hand[i] == 0:\n",
    "                return False\n",
    "            else:\n",
    "                # for every letter in the word if you can use a letter\n",
    "                # this takes away a letter in the hand\n",
    "                hand.update({i: hand[i]-1})\n",
    "                valid = valid + 1\n",
    "    if len(word) == valid:\n",
    "        return True\n",
    "    else: return False"
   ]
  },
  {
   "cell_type": "code",
   "execution_count": 76,
   "id": "167482e8",
   "metadata": {},
   "outputs": [
    {
     "name": "stdout",
     "output_type": "stream",
     "text": [
      "{'o': 1, 'u': 1, 'j': 2, 'r': 1, 'q': 1, 'l': 1}\n"
     ]
    },
    {
     "ename": "AttributeError",
     "evalue": "'Hand' object has no attribute 'updateHand'",
     "output_type": "error",
     "traceback": [
      "\u001b[1;31m---------------------------------------------------------------------------\u001b[0m",
      "\u001b[1;31mAttributeError\u001b[0m                            Traceback (most recent call last)",
      "Cell \u001b[1;32mIn[76], line 3\u001b[0m\n\u001b[0;32m      1\u001b[0m myHand \u001b[38;5;241m=\u001b[39m Hand(\u001b[38;5;241m7\u001b[39m)\n\u001b[0;32m      2\u001b[0m \u001b[38;5;28mprint\u001b[39m(myHand\u001b[38;5;241m.\u001b[39mhand)\n\u001b[1;32m----> 3\u001b[0m \u001b[43mmyHand\u001b[49m\u001b[38;5;241;43m.\u001b[39;49m\u001b[43mupdateHand\u001b[49m(word)\n",
      "\u001b[1;31mAttributeError\u001b[0m: 'Hand' object has no attribute 'updateHand'"
     ]
    }
   ],
   "source": [
    "myHand = Hand(7)\n",
    "print(myHand.hand)\n",
    "myHand.updateHand(word)"
   ]
  },
  {
   "cell_type": "code",
   "execution_count": null,
   "id": "cc22f5bb",
   "metadata": {},
   "outputs": [],
   "source": []
  }
 ],
 "metadata": {
  "kernelspec": {
   "display_name": "Python 3 (ipykernel)",
   "language": "python",
   "name": "python3"
  },
  "language_info": {
   "codemirror_mode": {
    "name": "ipython",
    "version": 3
   },
   "file_extension": ".py",
   "mimetype": "text/x-python",
   "name": "python",
   "nbconvert_exporter": "python",
   "pygments_lexer": "ipython3",
   "version": "3.10.11"
  }
 },
 "nbformat": 4,
 "nbformat_minor": 5
}
