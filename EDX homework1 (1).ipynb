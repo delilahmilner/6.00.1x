{
 "cells": [
  {
   "cell_type": "code",
   "execution_count": 1,
   "id": "0e702653",
   "metadata": {},
   "outputs": [],
   "source": [
    "# question number 1\n",
    "# counts the number of vowels in a word\n",
    "def vowel_counter(string):\n",
    "# starts with 0\n",
    "    number_of_vowels = 0\n",
    "    for i in string:\n",
    "# if the letter is a vowel the counter adds one        \n",
    "        if i == \"a\" or i == \"e\" or i == \"i\" or i == \"u\" or i ==\"o\":\n",
    "            number_of_vowels = number_of_vowels + 1\n",
    "# if there is no vowel then it adds 0\n",
    "        else:\n",
    "             number_of_vowels = number_of_vowels - 0\n",
    "    return print('Number of vowels:', number_of_vowels)"
   ]
  },
  {
   "cell_type": "code",
   "execution_count": 2,
   "id": "f9b90c50",
   "metadata": {},
   "outputs": [
    {
     "name": "stdout",
     "output_type": "stream",
     "text": [
      "Number of vowels: 3\n"
     ]
    }
   ],
   "source": [
    "string = 'animal'\n",
    "vowel_counter(string)"
   ]
  },
  {
   "cell_type": "code",
   "execution_count": 3,
   "id": "be31a5c7",
   "metadata": {},
   "outputs": [],
   "source": [
    "s = 'azcbobobegghakl'"
   ]
  },
  {
   "cell_type": "code",
   "execution_count": 4,
   "id": "d8c4b9b5",
   "metadata": {},
   "outputs": [
    {
     "name": "stdout",
     "output_type": "stream",
     "text": [
      "Number of vowels: 5\n"
     ]
    }
   ],
   "source": [
    "vowel_counter(s)"
   ]
  },
  {
   "cell_type": "code",
   "execution_count": 5,
   "id": "2df6e99e",
   "metadata": {},
   "outputs": [
    {
     "name": "stdout",
     "output_type": "stream",
     "text": [
      "Number of vowels: 5\n"
     ]
    }
   ],
   "source": [
    "# same things but not in a function\n",
    "number_of_vowels = 0\n",
    "for i in s:\n",
    "    if i == \"a\" or i == \"e\" or i == \"i\" or i == \"u\" or i ==\"o\":\n",
    "        number_of_vowels = number_of_vowels + 1\n",
    "    else:\n",
    "            number_of_vowels = number_of_vowels - 0\n",
    "print('Number of vowels:', number_of_vowels)"
   ]
  },
  {
   "cell_type": "code",
   "execution_count": 6,
   "id": "0a862e7a",
   "metadata": {},
   "outputs": [],
   "source": [
    "s = 'azcbobobegghakl'"
   ]
  },
  {
   "cell_type": "code",
   "execution_count": 7,
   "id": "1a74a703",
   "metadata": {},
   "outputs": [
    {
     "name": "stdout",
     "output_type": "stream",
     "text": [
      "Number of vowels: 5\n"
     ]
    }
   ],
   "source": [
    "vowel_counter(s)"
   ]
  },
  {
   "cell_type": "code",
   "execution_count": 8,
   "id": "807939d4",
   "metadata": {},
   "outputs": [
    {
     "name": "stdout",
     "output_type": "stream",
     "text": [
      "Number of times bob occurs is: 2\n"
     ]
    }
   ],
   "source": [
    "# questions number 2\n",
    "# count how many times bob shows up on a string\n",
    "s = \"azcbobobegghakl\" \n",
    "# initilize before the forloop\n",
    "bob = 0\n",
    "for i in range(len(s)):\n",
    "# range is used because i has to be a position value not a character\n",
    "    if s[i:i+3] == 'bob':\n",
    "# if it is true add 1 if not add 0        \n",
    "        bob = bob + 1\n",
    "    else:\n",
    "        bob = bob + 0\n",
    "print(\"Number of times bob occurs is:\", bob)"
   ]
  },
  {
   "cell_type": "code",
   "execution_count": 183,
   "id": "0c3bf024",
   "metadata": {},
   "outputs": [],
   "source": [
    "def findingBob(string:str,looking:str):\n",
    "    bob = 0\n",
    "    for i in range(len(s)):\n",
    "# range is used because i has to be a position value not a character\n",
    "        if s[i:i+3] == looking:\n",
    "# if it is true add 1 if not add 0        \n",
    "            bob = bob + 1\n",
    "        else:\n",
    "            bob = bob + 0\n",
    "    return print(\"Number of times bob occurs is:\", bob)"
   ]
  },
  {
   "cell_type": "code",
   "execution_count": 119,
   "id": "46fa7446",
   "metadata": {},
   "outputs": [
    {
     "name": "stdout",
     "output_type": "stream",
     "text": [
      "z\n"
     ]
    }
   ],
   "source": [
    "s = 'zyxwvutsrqponmlkjihgfedcba'\n",
    "\n",
    "# starter string\n",
    "current_string = ''\n",
    "\n",
    "# longest string\n",
    "longest = ''\n",
    "\n",
    "for i in s:\n",
    "    # if the current string is empty or the first letter is less than current letter\n",
    "    if current_string == '' or i >= current_string[-1]:\n",
    "        # append\n",
    "        current_string += i\n",
    "    else:\n",
    "        # if the second letter is smaller\n",
    "        # the longest string is replaced by the current string\n",
    "        current_string_len = len(current_string)\n",
    "        longest_len = len(longest)\n",
    "        if current_string_len > longest_len:\n",
    "            longest = current_string\n",
    "        # the current string is reset\n",
    "        current_string = ''\n",
    "        # the current string is starting to be refilled again\n",
    "        current_string += i\n",
    "\n",
    "if len(longest) >= len(current_string):\n",
    "    print(longest)\n",
    "else: \n",
    "    print(current_string)"
   ]
  },
  {
   "cell_type": "code",
   "execution_count": 116,
   "id": "c764c469",
   "metadata": {},
   "outputs": [
    {
     "name": "stdout",
     "output_type": "stream",
     "text": [
      "z\n"
     ]
    }
   ],
   "source": [
    "##### homework 2"
   ]
  },
  {
   "cell_type": "code",
   "execution_count": 117,
   "id": "e7faeac4",
   "metadata": {},
   "outputs": [
    {
     "name": "stdout",
     "output_type": "stream",
     "text": [
      "a\n"
     ]
    }
   ],
   "source": []
  },
  {
   "cell_type": "code",
   "execution_count": null,
   "id": "ef418eb6",
   "metadata": {},
   "outputs": [],
   "source": []
  },
  {
   "cell_type": "code",
   "execution_count": null,
   "id": "ee9f704e",
   "metadata": {},
   "outputs": [],
   "source": []
  },
  {
   "cell_type": "code",
   "execution_count": null,
   "id": "e835a2e4",
   "metadata": {},
   "outputs": [],
   "source": []
  },
  {
   "cell_type": "code",
   "execution_count": null,
   "id": "c13dba4b",
   "metadata": {},
   "outputs": [],
   "source": []
  },
  {
   "cell_type": "code",
   "execution_count": null,
   "id": "69ec5b60",
   "metadata": {},
   "outputs": [],
   "source": []
  },
  {
   "cell_type": "code",
   "execution_count": null,
   "id": "17e39494",
   "metadata": {},
   "outputs": [],
   "source": []
  },
  {
   "cell_type": "code",
   "execution_count": null,
   "id": "d0656e95",
   "metadata": {},
   "outputs": [],
   "source": []
  },
  {
   "cell_type": "code",
   "execution_count": null,
   "id": "a3f5fdd0",
   "metadata": {},
   "outputs": [],
   "source": []
  },
  {
   "cell_type": "code",
   "execution_count": null,
   "id": "4c2cf356",
   "metadata": {},
   "outputs": [],
   "source": []
  },
  {
   "cell_type": "code",
   "execution_count": null,
   "id": "f565ca09",
   "metadata": {},
   "outputs": [],
   "source": [
    "  "
   ]
  },
  {
   "cell_type": "code",
   "execution_count": null,
   "id": "9bbaa48a",
   "metadata": {},
   "outputs": [],
   "source": []
  },
  {
   "cell_type": "code",
   "execution_count": null,
   "id": "80d55551",
   "metadata": {},
   "outputs": [],
   "source": []
  }
 ],
 "metadata": {
  "kernelspec": {
   "display_name": "Python 3 (ipykernel)",
   "language": "python",
   "name": "python3"
  },
  "language_info": {
   "codemirror_mode": {
    "name": "ipython",
    "version": 3
   },
   "file_extension": ".py",
   "mimetype": "text/x-python",
   "name": "python",
   "nbconvert_exporter": "python",
   "pygments_lexer": "ipython3",
   "version": "3.10.11"
  }
 },
 "nbformat": 4,
 "nbformat_minor": 5
}
