{
 "cells": [
  {
   "cell_type": "code",
   "execution_count": null,
   "id": "5234a924",
   "metadata": {},
   "outputs": [],
   "source": [
    "# secret number\n",
    "def SecretNumber():\n",
    "    print('Please think of a number between 0 and 100!')\n",
    "    # lowest you can guess\n",
    "    low = 0\n",
    "    # highest you can guess\n",
    "    high = 100\n",
    "    # your guess will be in inbetween\n",
    "    guess = int((high+low)/2)\n",
    "    # initialize check to something arbitrary\n",
    "    check = 'l'\n",
    "    # if it is c then it is correct\n",
    "    # until it is correct\n",
    "    while check != 'c':\n",
    "        # guess will be the between the high and low\n",
    "        guess = int((high+low)/2)\n",
    "        print(high)\n",
    "        print(low)\n",
    "        # print out guess\n",
    "        print('Is your secret number ', guess, '?',sep='')        \n",
    "        check = input(\"Enter 'h' to indicate the guess is too high.\"  \n",
    "              \" Enter 'l' to indicate the guess is too low.\" \n",
    "              \" Enter 'c' to indicate I guessed correctly.\")\n",
    "        # if the guess is correct\n",
    "        if check == 'c':\n",
    "            break\n",
    "        # if the guess is too hi the guess becomes the new hi\n",
    "        # original high = 100\n",
    "        # new high will be 50 etc\n",
    "        elif check == 'h':\n",
    "            high = guess\n",
    "        # same with low low because the new guess\n",
    "        elif check == 'l':\n",
    "            low = guess\n",
    "        # if you put in the wrong input\n",
    "        elif check != 'h' or check != 'l' or check != 'c':\n",
    "            print('Sorry, I did not understand your input.')\n",
    "    # out of the loop happens when the number is selected \n",
    "    print ('Game over. Your secret number was:', guess)       "
   ]
  },
  {
   "cell_type": "code",
   "execution_count": null,
   "id": "46f419a4",
   "metadata": {},
   "outputs": [],
   "source": [
    "SecretNumber()"
   ]
  },
  {
   "cell_type": "code",
   "execution_count": null,
   "id": "f9287f74",
   "metadata": {},
   "outputs": [],
   "source": [
    "# \\ is how you do multiline return statments but both halves have to be in parenthesis \n",
    "def function(x,y):\n",
    "    return (x)+ \\\n",
    "        (y)"
   ]
  },
  {
   "cell_type": "code",
   "execution_count": null,
   "id": "5db7778b",
   "metadata": {},
   "outputs": [],
   "source": [
    "function(4,5)"
   ]
  },
  {
   "cell_type": "code",
   "execution_count": null,
   "id": "9a29c9e9",
   "metadata": {},
   "outputs": [],
   "source": [
    "def odd(x):\n",
    "    if x%2 != 0:\n",
    "        print('True')\n",
    "    else:\n",
    "        print('False')"
   ]
  },
  {
   "cell_type": "code",
   "execution_count": null,
   "id": "46178192",
   "metadata": {},
   "outputs": [],
   "source": [
    "odd(3)"
   ]
  },
  {
   "cell_type": "code",
   "execution_count": 3,
   "id": "3e5d4a7f",
   "metadata": {},
   "outputs": [],
   "source": [
    "# using recursion not iteration\n",
    "def iterPower(base, exp):\n",
    "    '''\n",
    "    base: int or float.\n",
    "    exp: int >= 0\n",
    " \n",
    "    returns: int or float, base^exp\n",
    "    '''\n",
    "    if exp == 0:\n",
    "        return 1\n",
    "    else:\n",
    "        return base * iterPower(base, exp-1)"
   ]
  },
  {
   "cell_type": "code",
   "execution_count": null,
   "id": "21537499",
   "metadata": {},
   "outputs": [],
   "source": []
  },
  {
   "cell_type": "code",
   "execution_count": null,
   "id": "3199576a",
   "metadata": {},
   "outputs": [],
   "source": [
    "def gcd(a,b):\n",
    "    if a > b:\n",
    "        test = a\n",
    "    else:\n",
    "        test = b \n",
    "    while test >= 1:\n",
    "        if a%test == 0 and b%test == 0:\n",
    "            return test\n",
    "        elif a%b != 0: \n",
    "            test = test - 1"
   ]
  },
  {
   "cell_type": "code",
   "execution_count": null,
   "id": "c9b91a7b",
   "metadata": {},
   "outputs": [],
   "source": []
  },
  {
   "cell_type": "code",
   "execution_count": null,
   "id": "a276de00",
   "metadata": {},
   "outputs": [],
   "source": [
    "def gcd(a, b):\n",
    "    if b == 0:\n",
    "        return a\n",
    "    else:\n",
    "        return gcd(b, a % b)"
   ]
  },
  {
   "cell_type": "code",
   "execution_count": null,
   "id": "af8034c5",
   "metadata": {},
   "outputs": [],
   "source": [
    "gcd(12, 2)"
   ]
  },
  {
   "cell_type": "code",
   "execution_count": 26,
   "id": "ad6edf39",
   "metadata": {},
   "outputs": [],
   "source": [
    "# is this character in it using bisectional search\n",
    "\n",
    "def Isin(char,string):\n",
    "    low = 0\n",
    "    high = len(string)\n",
    "    guess = int((high+low)/2)\n",
    "    preventative = 0\n",
    "\n",
    "# while the values of low and high arnt next to eachother\n",
    "    while low + 1 != high: \n",
    "# breaks an infinite loop\n",
    "        preventative = preventative + 1\n",
    "        guess = int((high+low)/2)   \n",
    "        print(high)\n",
    "        print(low)\n",
    "# if its the low break\n",
    "        if char == string[low]:\n",
    "            return True\n",
    "# if its the high break\n",
    "        if char == string[high-1]:\n",
    "            return True\n",
    "# if its the middle\n",
    "        if char == string[guess]:\n",
    "            return True\n",
    "# reset the low and high\n",
    "        elif char < string[guess]:\n",
    "            high = guess\n",
    "            preventative = preventative + 1\n",
    "        elif char > string[guess]:\n",
    "            low = guess\n",
    "        preventative = preventative + 1\n",
    "    return False"
   ]
  },
  {
   "cell_type": "code",
   "execution_count": 28,
   "id": "d46ab80b",
   "metadata": {},
   "outputs": [
    {
     "name": "stdout",
     "output_type": "stream",
     "text": [
      "6\n",
      "0\n"
     ]
    },
    {
     "data": {
      "text/plain": [
       "True"
      ]
     },
     "execution_count": 28,
     "metadata": {},
     "output_type": "execute_result"
    }
   ],
   "source": [
    "Isin('d','abcdef')   "
   ]
  },
  {
   "cell_type": "code",
   "execution_count": 30,
   "id": "cd1b7900",
   "metadata": {},
   "outputs": [],
   "source": [
    "# is the character in the string\n",
    "def isIn(char, aStr):\n",
    "\n",
    "# is there a character at all\n",
    "    if len(char) == 0:\n",
    "        return False\n",
    "    \n",
    "# is there a string at all        \n",
    "    if len(aStr) == 0:\n",
    "        return False\n",
    "    \n",
    "# is the character the first of the string         \n",
    "    if char == aStr[0]:\n",
    "        return True\n",
    "\n",
    "# for the loop is the character part of the string    \n",
    "    if char == aStr:\n",
    "        return True\n",
    "    \n",
    "    else: \n",
    "        return isIn(char,aStr[0+1:])"
   ]
  },
  {
   "cell_type": "code",
   "execution_count": 31,
   "id": "0abb6a6c",
   "metadata": {},
   "outputs": [
    {
     "data": {
      "text/plain": [
       "True"
      ]
     },
     "execution_count": 31,
     "metadata": {},
     "output_type": "execute_result"
    }
   ],
   "source": [
    "isIn('h', 'achhry')"
   ]
  },
  {
   "cell_type": "code",
   "execution_count": null,
   "id": "7f7123bd",
   "metadata": {},
   "outputs": [],
   "source": [
    "def iterPower(base, exp):\n",
    "    '''\n",
    "    base: int or float.\n",
    "    exp: int >= 0\n",
    " \n",
    "    returns: int or float, base^exp\n",
    "    '''\n",
    "    if exp == 0:\n",
    "        return 1\n",
    "    else:\n",
    "        return base * iterPower(base, exp-1)"
   ]
  },
  {
   "cell_type": "code",
   "execution_count": null,
   "id": "45bd7fcf",
   "metadata": {},
   "outputs": [],
   "source": [
    "# homework 2 problem 1\n",
    "# the balance\n",
    "balance = 42 \n",
    "#annual interest\n",
    "annualInterestRate = 0.2\n",
    "#payment rate since the minimum payment changes as the balance gets lower\n",
    "monthlyPaymentRate = 0.04\n",
    "# this cycles the payment every month for 12 months\n",
    "# once the range if over you come out of the loop giving the final result\n",
    "for i in range(12):\n",
    "    # the math behind the payment every month for 12 monnths\n",
    "    MonthlyInterestRate =  annualInterestRate/12\n",
    "    MinimumMonthlyPayment = monthlyPaymentRate * balance\n",
    "    MonthlyUnpaidBalance = balance - MinimumMonthlyPayment\n",
    "    balance = MonthlyUnpaidBalance + (MonthlyInterestRate * MonthlyUnpaidBalance)\n",
    "# final balance    \n",
    "print('Remaining balance:',round(balance,2))"
   ]
  },
  {
   "cell_type": "code",
   "execution_count": null,
   "id": "c79cbccd",
   "metadata": {},
   "outputs": [],
   "source": [
    "# homework 2 problem 2\n",
    "# balance\n",
    "balance = 3926\n",
    "#annual interest rate\n",
    "annualInterestRate = 0.2\n",
    "\n",
    "# starting payment of 10\n",
    "payment = 10\n",
    "# initalize Updated balance because it has to be set with something\n",
    "UpdatedBalance = balance\n",
    "\n",
    "# condition breaks the second you have a negative balance\n",
    "while UpdatedBalance > 0:\n",
    "    # after you do the forloop youincrease the payment by 10\n",
    "    payment = payment + 10\n",
    "    # reset the balance so the updated balance doesnt carry over\n",
    "    UpdatedBalance = balance\n",
    "    # the math that goes through and loops for 12 months\n",
    "    for i in range(12):\n",
    "        MonthlyInterestRate =  (annualInterestRate / 12.0)\n",
    "        MonthlyUnpaidBalance = UpdatedBalance - payment\n",
    "        UpdatedBalance = MonthlyUnpaidBalance + (MonthlyInterestRate * MonthlyUnpaidBalance)\n",
    "    # used to prevent a infinite loop    \n",
    "    if payment > 700:\n",
    "        break\n",
    "print('Lowest Payment:',round(payment,2))  "
   ]
  },
  {
   "cell_type": "code",
   "execution_count": null,
   "id": "0711410f",
   "metadata": {},
   "outputs": [],
   "source": [
    "# homework 2 problem 3\n",
    "# balance\n",
    "balance = 999999\n",
    "# anual interest rate\n",
    "annualInterestRate = 0.18\n",
    "\n",
    "# lowest you can pay with is 0 which wont pay doen your debt\n",
    "low = 0\n",
    "# highest youll pay which is the full balance everymonth\n",
    "high = balance\n",
    "# paymanet is in between the 2 for bisectional results\n",
    "payment = high+low/2\n",
    "#initialize the Updated balance\n",
    "UpdatedBalance = balance\n",
    "# the while loops needs to start somehow so you have to set some criteria which will start the loop\n",
    "\n",
    "while UpdatedBalance < 0.15 or UpdatedBalance > -0.15:\n",
    "    # payment is reset at the end of the 12 months to try again    \n",
    "    payment = (high+low)/2\n",
    "    # Updated balance is reset to try the new payment for the 12 months\n",
    "    UpdatedBalance = balance\n",
    "    # math behind calculating the payment for 12 months\n",
    "    \n",
    "    for i in range(12):           \n",
    "        MonthlyInterestRate =  annualInterestRate/12\n",
    "        MonthlyUnpaidBalance = (UpdatedBalance - payment)\n",
    "        UpdatedBalance = MonthlyUnpaidBalance + (MonthlyInterestRate * MonthlyUnpaidBalance) \n",
    "    # if your updated balance is too high\n",
    "    # this happenes when you have a negative balance at the end of the year\n",
    "    if UpdatedBalance < 0:\n",
    "        high = payment\n",
    "    # payment is too low\n",
    "    # this happened when you still have debt to pay off\n",
    "    if UpdatedBalance > 0 :\n",
    "        low = payment\n",
    "    # if you fit within the small range you have the proper payment amount\n",
    "    if UpdatedBalance < 0.15 and UpdatedBalance > -0.15:\n",
    "        break\n",
    "print ('minimum payment is', round(payment,2) )  \n",
    "\n"
   ]
  },
  {
   "cell_type": "code",
   "execution_count": 5,
   "id": "fd71677c",
   "metadata": {},
   "outputs": [],
   "source": [
    "def isIn(char, aStr):\n",
    "\n",
    "# is there a character at all\n",
    "    return char in aStr\n",
    "    "
   ]
  },
  {
   "cell_type": "code",
   "execution_count": 7,
   "id": "1eff0b14",
   "metadata": {},
   "outputs": [
    {
     "data": {
      "text/plain": [
       "False"
      ]
     },
     "execution_count": 7,
     "metadata": {},
     "output_type": "execute_result"
    }
   ],
   "source": [
    "isIn('b', 'achhry')"
   ]
  },
  {
   "cell_type": "code",
   "execution_count": null,
   "id": "dc4b0d73",
   "metadata": {},
   "outputs": [],
   "source": []
  }
 ],
 "metadata": {
  "kernelspec": {
   "display_name": "Python 3 (ipykernel)",
   "language": "python",
   "name": "python3"
  },
  "language_info": {
   "codemirror_mode": {
    "name": "ipython",
    "version": 3
   },
   "file_extension": ".py",
   "mimetype": "text/x-python",
   "name": "python",
   "nbconvert_exporter": "python",
   "pygments_lexer": "ipython3",
   "version": "3.10.11"
  }
 },
 "nbformat": 4,
 "nbformat_minor": 5
}
