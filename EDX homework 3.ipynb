{
 "cells": [
  {
   "cell_type": "code",
   "execution_count": 1,
   "id": "50e88e81",
   "metadata": {},
   "outputs": [],
   "source": [
    "def oddTuples(aTup):\n",
    "    '''\n",
    "    aTup: a tuple\n",
    "    \n",
    "    returns: tuple, every other element of aTup. \n",
    "    '''\n",
    "    return aTup[::2]"
   ]
  },
  {
   "cell_type": "code",
   "execution_count": 2,
   "id": "a8cd0453",
   "metadata": {},
   "outputs": [],
   "source": [
    "aTup = ('I', 'am', 'a', 'test', 'tuple')"
   ]
  },
  {
   "cell_type": "code",
   "execution_count": 3,
   "id": "cb2886cf",
   "metadata": {},
   "outputs": [
    {
     "data": {
      "text/plain": [
       "('I', 'a', 'tuple')"
      ]
     },
     "execution_count": 3,
     "metadata": {},
     "output_type": "execute_result"
    }
   ],
   "source": [
    "oddTuples(aTup)"
   ]
  },
  {
   "cell_type": "code",
   "execution_count": 4,
   "id": "4e8cb256",
   "metadata": {},
   "outputs": [
    {
     "data": {
      "text/plain": [
       "[1]"
      ]
     },
     "execution_count": 4,
     "metadata": {},
     "output_type": "execute_result"
    }
   ],
   "source": [
    "x = [1, 2, [3, 'John', 4], 'Hi'] \n",
    "x[0:1]"
   ]
  },
  {
   "cell_type": "code",
   "execution_count": 4,
   "id": "646021af",
   "metadata": {},
   "outputs": [],
   "source": [
    "listA = [100, 0, 1, 4, 7]"
   ]
  },
  {
   "cell_type": "code",
   "execution_count": 5,
   "id": "4dd13000",
   "metadata": {},
   "outputs": [],
   "source": [
    "listA.extend([4, 1, 6, 3, 4])"
   ]
  },
  {
   "cell_type": "code",
   "execution_count": 6,
   "id": "fef75e86",
   "metadata": {},
   "outputs": [
    {
     "data": {
      "text/plain": [
       "2"
      ]
     },
     "execution_count": 6,
     "metadata": {},
     "output_type": "execute_result"
    }
   ],
   "source": [
    "listA.index(1)"
   ]
  },
  {
   "cell_type": "code",
   "execution_count": 7,
   "id": "1ce57968",
   "metadata": {},
   "outputs": [
    {
     "data": {
      "text/plain": [
       "7"
      ]
     },
     "execution_count": 7,
     "metadata": {},
     "output_type": "execute_result"
    }
   ],
   "source": [
    "listA.pop(4)"
   ]
  },
  {
   "cell_type": "code",
   "execution_count": 8,
   "id": "4ed8444a",
   "metadata": {},
   "outputs": [],
   "source": [
    "listA.reverse()"
   ]
  },
  {
   "cell_type": "code",
   "execution_count": 9,
   "id": "e7bbc21b",
   "metadata": {},
   "outputs": [
    {
     "data": {
      "text/plain": [
       "[4, 3, 6, 1, 4, 4, 1, 0, 100]"
      ]
     },
     "execution_count": 9,
     "metadata": {},
     "output_type": "execute_result"
    }
   ],
   "source": [
    "listA"
   ]
  },
  {
   "cell_type": "code",
   "execution_count": 12,
   "id": "41bcddee",
   "metadata": {},
   "outputs": [
    {
     "data": {
      "text/plain": [
       "array([2, 3, 4, 5])"
      ]
     },
     "execution_count": 12,
     "metadata": {},
     "output_type": "execute_result"
    }
   ],
   "source": [
    "import numpy as np\n",
    "A = np.array([1,2,3,4])\n",
    "A+1"
   ]
  },
  {
   "cell_type": "code",
   "execution_count": 13,
   "id": "b0c5417f",
   "metadata": {},
   "outputs": [
    {
     "data": {
      "text/plain": [
       "1.5"
      ]
     },
     "execution_count": 13,
     "metadata": {},
     "output_type": "execute_result"
    }
   ],
   "source": [
    "3/2"
   ]
  },
  {
   "cell_type": "code",
   "execution_count": 6,
   "id": "0bad0022",
   "metadata": {},
   "outputs": [],
   "source": [
    "animals = {'a': 'aardvark', 'b': 'baboon', 'c': 'coati'}\n",
    "\n",
    "animals['d'] = 'donkey'"
   ]
  },
  {
   "cell_type": "code",
   "execution_count": null,
   "id": "4acdd6dd",
   "metadata": {},
   "outputs": [],
   "source": []
  },
  {
   "cell_type": "code",
   "execution_count": 8,
   "id": "c85a547d",
   "metadata": {},
   "outputs": [
    {
     "data": {
      "text/plain": [
       "dict_values(['aardvark', 'baboon', 'coati', 'donkey'])"
      ]
     },
     "execution_count": 8,
     "metadata": {},
     "output_type": "execute_result"
    }
   ],
   "source": [
    "animals.values()"
   ]
  },
  {
   "cell_type": "code",
   "execution_count": 11,
   "id": "2208fd49",
   "metadata": {},
   "outputs": [
    {
     "data": {
      "text/plain": [
       "dict_values(['aardvark', 'baboon', 'coati', 'donkey'])"
      ]
     },
     "execution_count": 11,
     "metadata": {},
     "output_type": "execute_result"
    }
   ],
   "source": [
    "animals.values()"
   ]
  },
  {
   "cell_type": "code",
   "execution_count": 12,
   "id": "969beb59",
   "metadata": {},
   "outputs": [
    {
     "data": {
      "text/plain": [
       "dict_keys(['a', 'b', 'c', 'd'])"
      ]
     },
     "execution_count": 12,
     "metadata": {},
     "output_type": "execute_result"
    }
   ],
   "source": [
    "animals.keys()"
   ]
  },
  {
   "cell_type": "code",
   "execution_count": 13,
   "id": "f66bda78",
   "metadata": {},
   "outputs": [],
   "source": [
    "del animals['b']"
   ]
  },
  {
   "cell_type": "code",
   "execution_count": null,
   "id": "7597a01a",
   "metadata": {},
   "outputs": [],
   "source": []
  },
  {
   "cell_type": "code",
   "execution_count": 14,
   "id": "f306338e",
   "metadata": {},
   "outputs": [
    {
     "data": {
      "text/plain": [
       "dict_values(['aardvark', 'coati', 'donkey'])"
      ]
     },
     "execution_count": 14,
     "metadata": {},
     "output_type": "execute_result"
    }
   ],
   "source": [
    "animals.values()"
   ]
  },
  {
   "cell_type": "code",
   "execution_count": null,
   "id": "a1528bb1",
   "metadata": {},
   "outputs": [],
   "source": [
    "def how_many(aDict):\n",
    "    '''\n",
    "    aDict: A dictionary, where all the values are lists.\n",
    "\n",
    "    returns: int, how many values are in the dictionary.\n",
    "    '''\n",
    "    for i in aDict:\n",
    "        if i in aDict:\n",
    "            aDict[i] = aDict[i] + 1\n",
    "        else:\n",
    "            aDict[i] = 1"
   ]
  },
  {
   "cell_type": "code",
   "execution_count": 71,
   "id": "dd380ad8",
   "metadata": {},
   "outputs": [],
   "source": [
    "animals = { 'a': ['aardvark'], 'b': ['baboon'], 'c': ['coati']}\n",
    "\n",
    "animals['d'] = ['donkey']\n",
    "animals['d'].append('dog')\n",
    "animals['d'].append('dingo')"
   ]
  },
  {
   "cell_type": "code",
   "execution_count": 72,
   "id": "2493efff",
   "metadata": {},
   "outputs": [
    {
     "data": {
      "text/plain": [
       "{'a': ['aardvark'],\n",
       " 'b': ['baboon'],\n",
       " 'c': ['coati'],\n",
       " 'd': ['donkey', 'dog', 'dingo']}"
      ]
     },
     "execution_count": 72,
     "metadata": {},
     "output_type": "execute_result"
    }
   ],
   "source": [
    "animals"
   ]
  },
  {
   "cell_type": "code",
   "execution_count": 38,
   "id": "c2f83bbd",
   "metadata": {},
   "outputs": [],
   "source": [
    "def how_many(animals):\n",
    "    lists = []\n",
    "    for i in animals.values():\n",
    "        lists.append(len(i))\n",
    "    return sum(lists)           "
   ]
  },
  {
   "cell_type": "code",
   "execution_count": 73,
   "id": "de82606e",
   "metadata": {},
   "outputs": [],
   "source": [
    "def how_many(animals):\n",
    "    lists = []\n",
    "    for i in animals.values():\n",
    "        lists.append(len(i))\n",
    "    max_length = lists.index(max(lists))\n",
    "    return list(animals.keys())[max_length]"
   ]
  },
  {
   "cell_type": "code",
   "execution_count": 74,
   "id": "3f49625c",
   "metadata": {},
   "outputs": [
    {
     "data": {
      "text/plain": [
       "'d'"
      ]
     },
     "execution_count": 74,
     "metadata": {},
     "output_type": "execute_result"
    }
   ],
   "source": [
    "how_many(animals)"
   ]
  },
  {
   "cell_type": "code",
   "execution_count": 76,
   "id": "62ca0e25",
   "metadata": {},
   "outputs": [],
   "source": [
    "def test(n,d):\n",
    "    if n in d:\n",
    "        return d[n]"
   ]
  },
  {
   "cell_type": "code",
   "execution_count": 79,
   "id": "1cd8c014",
   "metadata": {},
   "outputs": [
    {
     "data": {
      "text/plain": [
       "['baboon']"
      ]
     },
     "execution_count": 79,
     "metadata": {},
     "output_type": "execute_result"
    }
   ],
   "source": [
    "test('b',animals)"
   ]
  },
  {
   "cell_type": "code",
   "execution_count": 44,
   "id": "50ad7731",
   "metadata": {},
   "outputs": [
    {
     "name": "stdout",
     "output_type": "stream",
     "text": [
      "Loading word list from file...\n",
      "   83667 words loaded.\n",
      "Welcome to the game Hangman!\n",
      "I am thinking of a word that is 6 letters long\n",
      "-------------\n",
      "You have 8 guesses left\n",
      "Available letters: abcdefghijklmnopqrstuvwxyz\n",
      "Please guess a letter: a\n",
      "Oops! That letter is not in my word: _ _ _ _ _ _\n",
      "-------------\n",
      "You have 7 guesses left\n",
      "Available letters: bcdefghijklmnopqrstuvwxyz\n",
      "Please guess a letter: e\n",
      "Good guess: _ _ _ e _ _\n",
      "-------------\n",
      "You have 7 guesses left\n",
      "Available letters: bcdfghijklmnopqrstuvwxyz\n",
      "Please guess a letter: i\n",
      "Oops! That letter is not in my word: _ _ _ e _ _\n",
      "-------------\n",
      "You have 6 guesses left\n",
      "Available letters: bcdfghjklmnopqrstuvwxyz\n",
      "Please guess a letter: o\n",
      "Good guess: _ o _ e _ o\n",
      "-------------\n",
      "You have 6 guesses left\n",
      "Available letters: bcdfghjklmnpqrstuvwxyz\n",
      "Please guess a letter: s\n",
      "Oops! That letter is not in my word: _ o _ e _ o\n",
      "-------------\n",
      "You have 5 guesses left\n",
      "Available letters: bcdfghjklmnpqrtuvwxyz\n",
      "Please guess a letter: t\n",
      "Good guess: t o _ e _ o\n",
      "-------------\n",
      "You have 5 guesses left\n",
      "Available letters: bcdfghjklmnpqruvwxyz\n",
      "Please guess a letter: r\n",
      "Oops! That letter is not in my word: t o _ e _ o\n",
      "-------------\n",
      "You have 4 guesses left\n",
      "Available letters: bcdfghjklmnpquvwxyz\n",
      "Please guess a letter: n\n",
      "Oops! That letter is not in my word: t o _ e _ o\n",
      "-------------\n",
      "You have 3 guesses left\n",
      "Available letters: bcdfghjklmpquvwxyz\n",
      "Please guess a letter: v\n",
      "Oops! That letter is not in my word: t o _ e _ o\n",
      "-------------\n",
      "You have 2 guesses left\n",
      "Available letters: bcdfghjklmpquwxyz\n",
      "Please guess a letter: m\n",
      "Oops! That letter is not in my word: t o _ e _ o\n",
      "-------------\n",
      "You have 1 guesses left\n",
      "Available letters: bcdfghjklpquwxyz\n",
      "Please guess a letter: w\n",
      "Oops! That letter is not in my word: t o _ e _ o\n",
      "-------------\n",
      "Sorry, you ran out of guesses. The word was toledo\n"
     ]
    }
   ],
   "source": [
    "# HOMEWORK 3\n",
    "# COMPLETED HANGMAN GAME\n",
    "\n",
    "\n",
    "# Hangman game\n",
    "#\n",
    "\n",
    "# -----------------------------------\n",
    "# Helper code\n",
    "# You don't need to understand this helper code,\n",
    "# but you will have to know how to use the functions\n",
    "# (so be sure to read the docstrings!)\n",
    "\n",
    "import random\n",
    "\n",
    "WORDLIST_FILENAME = \"words.txt\"\n",
    "\n",
    "def loadWords():\n",
    "    \"\"\"\n",
    "    Returns a list of valid words. Words are strings of lowercase letters.\n",
    "    \n",
    "    Depending on the size of the word list, this function may\n",
    "    take a while to finish.\n",
    "    \"\"\"\n",
    "    print(\"Loading word list from file...\")\n",
    "    # inFile: file\n",
    "    inFile = open(WORDLIST_FILENAME, 'r')\n",
    "    # line: string\n",
    "    line = inFile.read()\n",
    "    # wordlist: list of strings\n",
    "    wordlist = line.split()\n",
    "    print(\"  \", len(wordlist), \"words loaded.\")\n",
    "    return wordlist\n",
    "\n",
    "def chooseWord(wordlist):\n",
    "    \"\"\"\n",
    "    wordlist (list): list of words (strings)\n",
    "\n",
    "    Returns a word from wordlist at random\n",
    "    \"\"\"\n",
    "    return random.choice(wordlist)\n",
    "\n",
    "# end of helper code\n",
    "# -----------------------------------\n",
    "\n",
    "# Load the list of words into the variable wordlist\n",
    "# so that it can be accessed from anywhere in the program\n",
    "wordlist = loadWords()\n",
    "\n",
    "def isWordGuessed(secretWord, lettersGuessed):\n",
    "    '''\n",
    "    secretWord: string, the word the user is guessing\n",
    "    lettersGuessed: list, what letters have been guessed so far\n",
    "    returns: boolean, True if all the letters of secretWord are in lettersGuessed;\n",
    "      False otherwise'''\n",
    "    \n",
    "    empty = []\n",
    "    # creates an empty list\n",
    "    # creates a list of trues and falses\n",
    "    for i in secretWord:\n",
    "        if i in lettersGuessed:\n",
    "            empty.append(True)\n",
    "        else:\n",
    "            empty.append(False)\n",
    "    # if there is a letter in secret word that is not the guesses\n",
    "    # that means the letter hasnt been guessed and the word hadnt been guessed\n",
    "    if False in empty:\n",
    "        return False\n",
    "    # if all letters in secret word have been guessed you won\n",
    "    else:\n",
    "        return True\n",
    "\n",
    "\n",
    "\n",
    "def getGuessedWord(secretWord, lettersGuessed):\n",
    "    '''\n",
    "    secretWord: string, the word the user is guessing\n",
    "    lettersGuessed: list, what letters have been guessed so far\n",
    "    returns: string, comprised of letters and underscores that represents\n",
    "      what letters in secretWord have been guessed so far.\n",
    "    '''\n",
    "    empty = []\n",
    "    for i in secretWord:\n",
    "        if i in lettersGuessed:\n",
    "        # if the letter has been guessed then the letter is printed\n",
    "            empty.append(i)\n",
    "        else:\n",
    "        # if the letter has not been guessed theres a blank space\n",
    "            empty.append('_')\n",
    "    # return the strings not in a list\n",
    "    return ' '.join(empty)\n",
    "\n",
    "\n",
    "\n",
    "def getAvailableLetters(lettersGuessed):\n",
    "    '''\n",
    "    lettersGuessed: list, what letters have been guessed so far\n",
    "    returns: string, comprised of letters that represents what letters have not\n",
    "      yet been guessed.\n",
    "    '''\n",
    "    empty = []\n",
    "    for i in 'abcdefghijklmnopqrstuvwxyz':\n",
    "        # if the letter hasnt been guessed it gets appended\n",
    "        # extend works better for strings\n",
    "        if i not in lettersGuessed:\n",
    "            empty.append(i)\n",
    "    return ''.join(empty)\n",
    "    \n",
    "\n",
    "def hangman(secretWord):\n",
    "    '''\n",
    "    secretWord: string, the secret word to guess.\n",
    "\n",
    "    Starts up an interactive game of Hangman.\n",
    "\n",
    "    * At the start of the game, let the user know how many \n",
    "      letters the secretWord contains.\n",
    "\n",
    "    * Ask the user to supply one guess (i.e. letter) per round.\n",
    "\n",
    "    * The user should receive feedback immediately after each guess \n",
    "      about whether their guess appears in the computers word.\n",
    "\n",
    "    * After each round, you should also display to the user the \n",
    "      partially guessed word so far, as well as letters that the \n",
    "      user has not yet guessed.\n",
    "\n",
    "    Follows the other limitations detailed in the problem write-up.\n",
    "    '''\n",
    "\n",
    "    print('Welcome to the game Hangman!')\n",
    "    print('I am thinking of a word that is', len(secretWord), 'letters long')\n",
    "    print('-------------')\n",
    "    guesses = 8\n",
    "    lettersGuessed = []\n",
    "    \n",
    "    while guesses != 0:\n",
    "        print('You have', guesses, 'guesses left')\n",
    "        # start by getting all avaiable letters\n",
    "        print('Available letters:', getAvailableLetters(lettersGuessed))\n",
    "        # get a guess\n",
    "        letter = str(input(\"Please guess a letter: \"))\n",
    "        \n",
    "        # if the letter has already been guessed say its been guess\n",
    "        # then say display the le _ _ again\n",
    "        if letter.lower() in lettersGuessed:\n",
    "            print(\"Oops! You've already guessed that letter:\", getGuessedWord(secretWord, lettersGuessed))\n",
    "            print('-------------')\n",
    "            # continue breaks you out of this if and brings you back to the top\n",
    "            continue\n",
    "        else:\n",
    "            lettersGuessed.extend([letter.lower()])\n",
    "            # something happened so you get brought back to the top\n",
    "            \n",
    "        if letter.lower() in secretWord:\n",
    "            print('Good guess:',getGuessedWord(secretWord, lettersGuessed))\n",
    "            print('-------------')\n",
    "            # dont need continue because the game ends here or you go back to the top\n",
    "            # the continue above can have it come to this step after that step\n",
    "            \n",
    "        elif letter.lower() not in secretWord:\n",
    "            print('Oops! That letter is not in my word:',getGuessedWord(secretWord, lettersGuessed))\n",
    "            print('-------------')\n",
    "            guesses = guesses - 1\n",
    "            \n",
    "        if isWordGuessed(secretWord, lettersGuessed) == True:\n",
    "            return print('Congratulations, you won!')\n",
    "        \n",
    "        if guesses == 0:\n",
    "            return print('Sorry, you ran out of guesses. The word was',secretWord)\n",
    "        \n",
    "        \n",
    "\n",
    "\n",
    "\n",
    "\n",
    "\n",
    "\n",
    "# When you've completed your hangman function, uncomment these two lines\n",
    "# and run this file to test! (hint: you might want to pick your own\n",
    "# secretWord while you're testing)\n",
    "\n",
    "secretWord = chooseWord(wordlist).lower()\n",
    "hangman(secretWord)"
   ]
  },
  {
   "cell_type": "code",
   "execution_count": 90,
   "id": "a7fbc506",
   "metadata": {},
   "outputs": [],
   "source": [
    "def isWordGuessed(secretWord, lettersGuessed):\n",
    "    '''\n",
    "    secretWord: string, the word the user is guessing\n",
    "    lettersGuessed: list, what letters have been guessed so far\n",
    "    returns: boolean, True if all the letters of secretWord are in lettersGuessed;\n",
    "      False otherwise\n",
    "    '''\n",
    "    string = ''.join(lettersGuessed)\n",
    "    if secretWord in lettersGuessed:\n",
    "        return True\n",
    "    else:\n",
    "        return False"
   ]
  },
  {
   "cell_type": "code",
   "execution_count": 91,
   "id": "8cfb8683",
   "metadata": {},
   "outputs": [
    {
     "data": {
      "text/plain": [
       "False"
      ]
     },
     "execution_count": 91,
     "metadata": {},
     "output_type": "execute_result"
    }
   ],
   "source": [
    "isWordGuessed('durian', ['h', 'a', 'c', 'd', 'i', 'm', 'n', 'r', 't', 'u'])"
   ]
  },
  {
   "cell_type": "code",
   "execution_count": 11,
   "id": "c58f3fa0",
   "metadata": {},
   "outputs": [],
   "source": [
    "lettersGuessed = ['z', 'x', 'q', 'c', 'o', 'c', 'o', 'n', 'u', 't']\n",
    "secretWord = 'coconut'\n",
    "def guess(secretWord,lettersGuessed):\n",
    "    empty = []\n",
    "    for i in secretWord:\n",
    "        if i in lettersGuessed:\n",
    "            empty.append(True)\n",
    "        else:\n",
    "            empty.append(False)\n",
    "    if False in empty:\n",
    "        return False\n",
    "    else:\n",
    "        return True"
   ]
  },
  {
   "cell_type": "code",
   "execution_count": 13,
   "id": "616474d0",
   "metadata": {},
   "outputs": [
    {
     "data": {
      "text/plain": [
       "True"
      ]
     },
     "execution_count": 13,
     "metadata": {},
     "output_type": "execute_result"
    }
   ],
   "source": [
    "guess('durian', ['h', 'a', 'c', 'd', 'i', 'm', 'n', 'r', 't', 'u'])"
   ]
  },
  {
   "cell_type": "code",
   "execution_count": 13,
   "id": "6fe91ec9",
   "metadata": {},
   "outputs": [],
   "source": [
    "secretWord = 'abcde'\n",
    "lettersGuessed = ['a','b','c','d']\n",
    "def getGuessedWord(secretWord, lettersGuessed):\n",
    "    '''\n",
    "    secretWord: string, the word the user is guessing\n",
    "    lettersGuessed: list, what letters have been guessed so far\n",
    "    returns: string, comprised of letters and underscores that represents\n",
    "      what letters in secretWord have been guessed so far.\n",
    "    '''\n",
    "    empty = []\n",
    "    for i in secretWord:\n",
    "        if i in lettersGuessed:\n",
    "            empty.append(i)\n",
    "        else:\n",
    "            empty.append('_')\n",
    "    return ' '.join(empty)"
   ]
  },
  {
   "cell_type": "code",
   "execution_count": 15,
   "id": "95159de3",
   "metadata": {},
   "outputs": [
    {
     "data": {
      "text/plain": [
       "'_ p p _ e'"
      ]
     },
     "execution_count": 15,
     "metadata": {},
     "output_type": "execute_result"
    }
   ],
   "source": [
    "getGuessedWord('apple', ['e', 'i', 'k', 'p', 'r', 's'])"
   ]
  },
  {
   "cell_type": "code",
   "execution_count": 22,
   "id": "04a2da4b",
   "metadata": {},
   "outputs": [],
   "source": [
    "def getAvailableLetters(lettersGuessed):\n",
    "    '''\n",
    "    secretWord: string, the word the user is guessing\n",
    "    lettersGuessed: list, what letters have been guessed so far\n",
    "    returns: string, comprised of letters and underscores that represents\n",
    "      what letters in secretWord have been guessed so far.\n",
    "    '''\n",
    "    empty = []\n",
    "    for i in 'abcdefghijklmnopqrstuvwxyz':\n",
    "        if i not in lettersGuessed:\n",
    "            empty.append(i)\n",
    "    return ''.join(empty)"
   ]
  },
  {
   "cell_type": "code",
   "execution_count": 23,
   "id": "104586a8",
   "metadata": {},
   "outputs": [
    {
     "data": {
      "text/plain": [
       "'abcdfghjlmnoqtuvwxyz'"
      ]
     },
     "execution_count": 23,
     "metadata": {},
     "output_type": "execute_result"
    }
   ],
   "source": [
    "lettersGuessed = ['e', 'i', 'k', 'p', 'r', 's']\n",
    "getAvailableLetters(lettersGuessed)"
   ]
  },
  {
   "cell_type": "code",
   "execution_count": 10,
   "id": "50760650",
   "metadata": {},
   "outputs": [],
   "source": [
    "def getAvailableLetters(lettersGuessed):\n",
    "    '''\n",
    "    lettersGuessed: list, what letters have been guessed so far\n",
    "    returns: string, comprised of letters that represents what letters have not\n",
    "      yet been guessed.\n",
    "    '''\n",
    "    empty = []\n",
    "    for i in 'abcdefghijklmnopqrstuvwxyz':\n",
    "        if i not in lettersGuessed:\n",
    "            empty.append(i)\n",
    "    return ''.join(empty)"
   ]
  },
  {
   "cell_type": "code",
   "execution_count": null,
   "id": "d7471017",
   "metadata": {},
   "outputs": [],
   "source": []
  },
  {
   "cell_type": "code",
   "execution_count": null,
   "id": "2c72a7b3",
   "metadata": {},
   "outputs": [],
   "source": []
  },
  {
   "cell_type": "code",
   "execution_count": null,
   "id": "6be112c9",
   "metadata": {},
   "outputs": [],
   "source": []
  },
  {
   "cell_type": "code",
   "execution_count": null,
   "id": "c37fb95e",
   "metadata": {},
   "outputs": [],
   "source": []
  },
  {
   "cell_type": "code",
   "execution_count": null,
   "id": "774112b0",
   "metadata": {},
   "outputs": [],
   "source": []
  },
  {
   "cell_type": "code",
   "execution_count": 38,
   "id": "cc1dd555",
   "metadata": {},
   "outputs": [],
   "source": []
  },
  {
   "cell_type": "code",
   "execution_count": null,
   "id": "56e06b4f",
   "metadata": {},
   "outputs": [],
   "source": []
  }
 ],
 "metadata": {
  "kernelspec": {
   "display_name": "Python 3 (ipykernel)",
   "language": "python",
   "name": "python3"
  },
  "language_info": {
   "codemirror_mode": {
    "name": "ipython",
    "version": 3
   },
   "file_extension": ".py",
   "mimetype": "text/x-python",
   "name": "python",
   "nbconvert_exporter": "python",
   "pygments_lexer": "ipython3",
   "version": "3.10.11"
  }
 },
 "nbformat": 4,
 "nbformat_minor": 5
}
